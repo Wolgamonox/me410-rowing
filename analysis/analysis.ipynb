{
 "cells": [
  {
   "cell_type": "markdown",
   "metadata": {},
   "source": [
    "# Analysis"
   ]
  },
  {
   "cell_type": "markdown",
   "metadata": {},
   "source": [
    "Imports"
   ]
  },
  {
   "cell_type": "code",
   "execution_count": 1,
   "metadata": {},
   "outputs": [],
   "source": [
    "import pandas as pd\n",
    "import numpy as np\n",
    "from scipy import signal\n",
    "import matplotlib.pyplot as plt\n",
    "import seaborn as sns"
   ]
  },
  {
   "cell_type": "markdown",
   "metadata": {},
   "source": [
    "## Experiment 1: Delay test 1"
   ]
  },
  {
   "cell_type": "markdown",
   "metadata": {},
   "source": [
    "\n",
    "Test setup: connect 2 devices in normal operation mode, both free to rotate on table.\n",
    "\n",
    "![Image of the setup](assets/exp1_setup.png \"Image of the setup\")\n",
    "\n",
    "We press activation button at the same time and record the positions at 33Hz. We can then plot the data and analyse the delay between the leader and the follower.\n",
    "\n",
    "Caveats:\n",
    "- Human error when \"simultaneously\" pressing the button\n",
    "- Serial delay not taken into account (although both are transmitting through serial at the same baudrate, so idk) \n",
    "\n"
   ]
  },
  {
   "cell_type": "markdown",
   "metadata": {},
   "source": [
    "Loading the experiment data"
   ]
  },
  {
   "cell_type": "code",
   "execution_count": 2,
   "metadata": {},
   "outputs": [],
   "source": [
    "experiment_id = 2"
   ]
  },
  {
   "cell_type": "code",
   "execution_count": 3,
   "metadata": {},
   "outputs": [
    {
     "data": {
      "text/html": [
       "<div>\n",
       "<style scoped>\n",
       "    .dataframe tbody tr th:only-of-type {\n",
       "        vertical-align: middle;\n",
       "    }\n",
       "\n",
       "    .dataframe tbody tr th {\n",
       "        vertical-align: top;\n",
       "    }\n",
       "\n",
       "    .dataframe thead th {\n",
       "        text-align: right;\n",
       "    }\n",
       "</style>\n",
       "<table border=\"1\" class=\"dataframe\">\n",
       "  <thead>\n",
       "    <tr style=\"text-align: right;\">\n",
       "      <th></th>\n",
       "      <th>leader</th>\n",
       "    </tr>\n",
       "  </thead>\n",
       "  <tbody>\n",
       "    <tr>\n",
       "      <th>count</th>\n",
       "      <td>2097.000000</td>\n",
       "    </tr>\n",
       "    <tr>\n",
       "      <th>mean</th>\n",
       "      <td>0.736733</td>\n",
       "    </tr>\n",
       "    <tr>\n",
       "      <th>std</th>\n",
       "      <td>0.286270</td>\n",
       "    </tr>\n",
       "    <tr>\n",
       "      <th>min</th>\n",
       "      <td>0.000000</td>\n",
       "    </tr>\n",
       "    <tr>\n",
       "      <th>25%</th>\n",
       "      <td>0.542404</td>\n",
       "    </tr>\n",
       "    <tr>\n",
       "      <th>50%</th>\n",
       "      <td>0.838770</td>\n",
       "    </tr>\n",
       "    <tr>\n",
       "      <th>75%</th>\n",
       "      <td>1.000000</td>\n",
       "    </tr>\n",
       "    <tr>\n",
       "      <th>max</th>\n",
       "      <td>1.000000</td>\n",
       "    </tr>\n",
       "  </tbody>\n",
       "</table>\n",
       "</div>"
      ],
      "text/plain": [
       "            leader\n",
       "count  2097.000000\n",
       "mean      0.736733\n",
       "std       0.286270\n",
       "min       0.000000\n",
       "25%       0.542404\n",
       "50%       0.838770\n",
       "75%       1.000000\n",
       "max       1.000000"
      ]
     },
     "execution_count": 3,
     "metadata": {},
     "output_type": "execute_result"
    }
   ],
   "source": [
    "leader_df = pd.read_csv(f\"data/experiment{experiment_id}/leader.txt\", header=None).rename(columns={0: \"leader\"})\n",
    "leader_df.describe()"
   ]
  },
  {
   "cell_type": "code",
   "execution_count": 4,
   "metadata": {},
   "outputs": [
    {
     "data": {
      "text/html": [
       "<div>\n",
       "<style scoped>\n",
       "    .dataframe tbody tr th:only-of-type {\n",
       "        vertical-align: middle;\n",
       "    }\n",
       "\n",
       "    .dataframe tbody tr th {\n",
       "        vertical-align: top;\n",
       "    }\n",
       "\n",
       "    .dataframe thead th {\n",
       "        text-align: right;\n",
       "    }\n",
       "</style>\n",
       "<table border=\"1\" class=\"dataframe\">\n",
       "  <thead>\n",
       "    <tr style=\"text-align: right;\">\n",
       "      <th></th>\n",
       "      <th>follower</th>\n",
       "    </tr>\n",
       "  </thead>\n",
       "  <tbody>\n",
       "    <tr>\n",
       "      <th>count</th>\n",
       "      <td>2035.000000</td>\n",
       "    </tr>\n",
       "    <tr>\n",
       "      <th>mean</th>\n",
       "      <td>0.709571</td>\n",
       "    </tr>\n",
       "    <tr>\n",
       "      <th>std</th>\n",
       "      <td>0.276995</td>\n",
       "    </tr>\n",
       "    <tr>\n",
       "      <th>min</th>\n",
       "      <td>0.000000</td>\n",
       "    </tr>\n",
       "    <tr>\n",
       "      <th>25%</th>\n",
       "      <td>0.524509</td>\n",
       "    </tr>\n",
       "    <tr>\n",
       "      <th>50%</th>\n",
       "      <td>0.801577</td>\n",
       "    </tr>\n",
       "    <tr>\n",
       "      <th>75%</th>\n",
       "      <td>0.964731</td>\n",
       "    </tr>\n",
       "    <tr>\n",
       "      <th>max</th>\n",
       "      <td>1.000000</td>\n",
       "    </tr>\n",
       "  </tbody>\n",
       "</table>\n",
       "</div>"
      ],
      "text/plain": [
       "          follower\n",
       "count  2035.000000\n",
       "mean      0.709571\n",
       "std       0.276995\n",
       "min       0.000000\n",
       "25%       0.524509\n",
       "50%       0.801577\n",
       "75%       0.964731\n",
       "max       1.000000"
      ]
     },
     "execution_count": 4,
     "metadata": {},
     "output_type": "execute_result"
    }
   ],
   "source": [
    "follower_df = pd.read_csv(f\"data/experiment{experiment_id}/follower.txt\", header=None).rename(columns={0: \"follower\"})\n",
    "\n",
    "def mapRange(x, in_min, in_max, out_min, out_max):\n",
    "  return abs(x - in_min) * abs(out_max - out_min) / abs(in_max - in_min) + out_min;s\n",
    "\n",
    "# scale the follower data to a [0, 1] range\n",
    "follower_df[\"follower\"] = follower_df[\"follower\"].apply(lambda x: mapRange(x, follower_df[\"follower\"].min(), follower_df[\"follower\"].max(), 0, 1))\n",
    "follower_df.describe()"
   ]
  },
  {
   "cell_type": "code",
   "execution_count": 9,
   "metadata": {},
   "outputs": [
    {
     "data": {
      "text/html": [
       "<div>\n",
       "<style scoped>\n",
       "    .dataframe tbody tr th:only-of-type {\n",
       "        vertical-align: middle;\n",
       "    }\n",
       "\n",
       "    .dataframe tbody tr th {\n",
       "        vertical-align: top;\n",
       "    }\n",
       "\n",
       "    .dataframe thead th {\n",
       "        text-align: right;\n",
       "    }\n",
       "</style>\n",
       "<table border=\"1\" class=\"dataframe\">\n",
       "  <thead>\n",
       "    <tr style=\"text-align: right;\">\n",
       "      <th></th>\n",
       "      <th>time</th>\n",
       "      <th>leader</th>\n",
       "      <th>follower</th>\n",
       "    </tr>\n",
       "  </thead>\n",
       "  <tbody>\n",
       "    <tr>\n",
       "      <th>0</th>\n",
       "      <td>0</td>\n",
       "      <td>1.0</td>\n",
       "      <td>0.968045</td>\n",
       "    </tr>\n",
       "    <tr>\n",
       "      <th>1</th>\n",
       "      <td>30</td>\n",
       "      <td>1.0</td>\n",
       "      <td>0.967585</td>\n",
       "    </tr>\n",
       "    <tr>\n",
       "      <th>2</th>\n",
       "      <td>60</td>\n",
       "      <td>1.0</td>\n",
       "      <td>0.968376</td>\n",
       "    </tr>\n",
       "    <tr>\n",
       "      <th>3</th>\n",
       "      <td>90</td>\n",
       "      <td>1.0</td>\n",
       "      <td>0.968045</td>\n",
       "    </tr>\n",
       "    <tr>\n",
       "      <th>4</th>\n",
       "      <td>120</td>\n",
       "      <td>1.0</td>\n",
       "      <td>0.967782</td>\n",
       "    </tr>\n",
       "  </tbody>\n",
       "</table>\n",
       "</div>"
      ],
      "text/plain": [
       "   time  leader  follower\n",
       "0     0     1.0  0.968045\n",
       "1    30     1.0  0.967585\n",
       "2    60     1.0  0.968376\n",
       "3    90     1.0  0.968045\n",
       "4   120     1.0  0.967782"
      ]
     },
     "execution_count": 9,
     "metadata": {},
     "output_type": "execute_result"
    }
   ],
   "source": [
    "import datetime\n",
    "\n",
    "\n",
    "all_df = pd.concat([leader_df, follower_df], axis=1)\n",
    "\n",
    "# Transform the index into a time series, each index is 30ms\n",
    "period = 30 # ms\n",
    "all_df.insert(0, \"time\", all_df.index * period)\n",
    "\n",
    "# Remove nan values\n",
    "all_df.dropna(inplace=True)\n",
    "\n",
    "all_df.head()"
   ]
  },
  {
   "cell_type": "code",
   "execution_count": 10,
   "metadata": {},
   "outputs": [
    {
     "name": "stdout",
     "output_type": "stream",
     "text": [
      "Estimated time delay: 0ms\n"
     ]
    }
   ],
   "source": [
    "# Time delay analysis\n",
    "# using https://docs.scipy.org/doc/scipy/reference/generated/scipy.signal.correlation_lags.html#scipy.signal.correlation_lags\n",
    "\n",
    "leader_signal = all_df[\"leader\"].to_numpy()\n",
    "follower_signal = all_df[\"follower\"].to_numpy()\n",
    "\n",
    "# Filter the signals\n",
    "leader_signal = signal.savgol_filter(leader_signal, 30, 3)\n",
    "follower_signal = signal.savgol_filter(follower_signal, 30, 3)\n",
    "\n",
    "all_df[\"leader\"] = leader_signal\n",
    "all_df[\"follower\"] = follower_signal\n",
    "\n",
    "correlation = signal.correlate(leader_signal, follower_signal, mode=\"full\")\n",
    "\n",
    "lags = signal.correlation_lags(leader_signal.size, follower_signal.size, mode=\"full\")\n",
    "lag = lags[np.argmax(correlation)]\n",
    "time_delay = abs(lag * period)\n",
    "print(f\"Estimated time delay: {time_delay}ms\")"
   ]
  },
  {
   "cell_type": "code",
   "execution_count": 11,
   "metadata": {},
   "outputs": [
    {
     "data": {
      "text/html": [
       "<div>\n",
       "<style scoped>\n",
       "    .dataframe tbody tr th:only-of-type {\n",
       "        vertical-align: middle;\n",
       "    }\n",
       "\n",
       "    .dataframe tbody tr th {\n",
       "        vertical-align: top;\n",
       "    }\n",
       "\n",
       "    .dataframe thead th {\n",
       "        text-align: right;\n",
       "    }\n",
       "</style>\n",
       "<table border=\"1\" class=\"dataframe\">\n",
       "  <thead>\n",
       "    <tr style=\"text-align: right;\">\n",
       "      <th></th>\n",
       "      <th>time</th>\n",
       "      <th>leader</th>\n",
       "      <th>follower</th>\n",
       "    </tr>\n",
       "  </thead>\n",
       "  <tbody>\n",
       "    <tr>\n",
       "      <th>0</th>\n",
       "      <td>0.00</td>\n",
       "      <td>1.000221</td>\n",
       "      <td>0.967939</td>\n",
       "    </tr>\n",
       "    <tr>\n",
       "      <th>1</th>\n",
       "      <td>0.03</td>\n",
       "      <td>0.997089</td>\n",
       "      <td>0.967932</td>\n",
       "    </tr>\n",
       "    <tr>\n",
       "      <th>2</th>\n",
       "      <td>0.06</td>\n",
       "      <td>0.994545</td>\n",
       "      <td>0.967925</td>\n",
       "    </tr>\n",
       "    <tr>\n",
       "      <th>3</th>\n",
       "      <td>0.09</td>\n",
       "      <td>0.992547</td>\n",
       "      <td>0.967919</td>\n",
       "    </tr>\n",
       "    <tr>\n",
       "      <th>4</th>\n",
       "      <td>0.12</td>\n",
       "      <td>0.991053</td>\n",
       "      <td>0.967914</td>\n",
       "    </tr>\n",
       "    <tr>\n",
       "      <th>...</th>\n",
       "      <td>...</td>\n",
       "      <td>...</td>\n",
       "      <td>...</td>\n",
       "    </tr>\n",
       "    <tr>\n",
       "      <th>2030</th>\n",
       "      <td>60.90</td>\n",
       "      <td>0.996595</td>\n",
       "      <td>0.965114</td>\n",
       "    </tr>\n",
       "    <tr>\n",
       "      <th>2031</th>\n",
       "      <td>60.93</td>\n",
       "      <td>0.996646</td>\n",
       "      <td>0.965099</td>\n",
       "    </tr>\n",
       "    <tr>\n",
       "      <th>2032</th>\n",
       "      <td>60.96</td>\n",
       "      <td>0.996624</td>\n",
       "      <td>0.965080</td>\n",
       "    </tr>\n",
       "    <tr>\n",
       "      <th>2033</th>\n",
       "      <td>60.99</td>\n",
       "      <td>0.996520</td>\n",
       "      <td>0.965056</td>\n",
       "    </tr>\n",
       "    <tr>\n",
       "      <th>2034</th>\n",
       "      <td>61.02</td>\n",
       "      <td>0.996323</td>\n",
       "      <td>0.965029</td>\n",
       "    </tr>\n",
       "  </tbody>\n",
       "</table>\n",
       "<p>2035 rows × 3 columns</p>\n",
       "</div>"
      ],
      "text/plain": [
       "       time    leader  follower\n",
       "0      0.00  1.000221  0.967939\n",
       "1      0.03  0.997089  0.967932\n",
       "2      0.06  0.994545  0.967925\n",
       "3      0.09  0.992547  0.967919\n",
       "4      0.12  0.991053  0.967914\n",
       "...     ...       ...       ...\n",
       "2030  60.90  0.996595  0.965114\n",
       "2031  60.93  0.996646  0.965099\n",
       "2032  60.96  0.996624  0.965080\n",
       "2033  60.99  0.996520  0.965056\n",
       "2034  61.02  0.996323  0.965029\n",
       "\n",
       "[2035 rows x 3 columns]"
      ]
     },
     "execution_count": 11,
     "metadata": {},
     "output_type": "execute_result"
    }
   ],
   "source": [
    "all_df[\"time\"] = all_df[\"time\"]/1000\n",
    "all_df"
   ]
  },
  {
   "cell_type": "code",
   "execution_count": 14,
   "metadata": {},
   "outputs": [
    {
     "data": {
      "image/png": "[encoded data removed]",
      "text/plain": [
       "<Figure size 640x480 with 1 Axes>"
      ]
     },
     "metadata": {},
     "output_type": "display_data"
    }
   ],
   "source": [
    "sns.set_theme(style=\"white\")\n",
    "sns.lineplot(\n",
    "    x=\"time\",\n",
    "    y=\"value\",\n",
    "    hue=\"variable\",\n",
    "    data=pd.melt(all_df[:1000], [\"time\"]),\n",
    ")\n",
    "sns.despine()\n",
    "\n",
    "plt.title(\"Knee flexion over time for leader and follower\")\n",
    "plt.ylabel(\"Normalized knee flexion\")\n",
    "plt.ylim(-0.1, 1.1)\n",
    "plt.xlabel(\"Time (s)\")\n",
    "plt.legend(title=\"Device\")\n",
    "\n",
    "plt.text(20, 0, f\"Time delay $\\\\leq$ {10}ms\", fontsize = 9,  \n",
    "         bbox = dict(alpha = 0.5)) \n",
    "\n",
    "plt.savefig(f\"results/experiment{experiment_id}.png\", dpi=300)\n",
    "plt.show()"
   ]
  },
  {
   "cell_type": "code",
   "execution_count": null,
   "metadata": {},
   "outputs": [],
   "source": []
  },
  {
   "cell_type": "code",
   "execution_count": null,
   "metadata": {},
   "outputs": [],
   "source": []
  }
 ],
 "metadata": {
  "kernelspec": {
   "display_name": "analysis-venv",
   "language": "python",
   "name": "python3"
  },
  "language_info": {
   "codemirror_mode": {
    "name": "ipython",
    "version": 3
   },
   "file_extension": ".py",
   "mimetype": "text/x-python",
   "name": "python",
   "nbconvert_exporter": "python",
   "pygments_lexer": "ipython3",
   "version": "3.11.2"
  }
 },
 "nbformat": 4,
 "nbformat_minor": 2
}
